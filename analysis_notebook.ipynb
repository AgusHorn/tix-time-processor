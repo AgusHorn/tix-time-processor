{
 "cells": [
  {
   "cell_type": "markdown",
   "metadata": {},
   "source": [
    "# Analyzer Notebook\n",
    "## Introduction\n",
    "This notebook contains code and graphs intended for exploratory analysis over the data and how the current `tix-time-processor` handles it. By no means should it be used as a testing method for the code, only to understand how the analysis are made and to improve further the results.\n",
    "\n",
    "### Disclaimer \n",
    "We understand that having a Python Notebook inside a functioning service is wrong. This should be in another repository, with its own versioning and such. But such is life... This will be left like this for the moment until someone with more time can fix it. Kind regards.\n",
    "\n",
    "### How to use this notebook\n",
    "For the moment, the notebook should live in the root directory of the sourcecode repository such as it is now. Also, there should be a directory next to this by the name of `batch-test-reports`, which it should contain the data to analyze. It is **strongly** recommended that the data is split among directories containing the expected processing input for an specific moment in time. This is to better understand the processing."
   ]
  },
  {
   "cell_type": "markdown",
   "metadata": {},
   "source": [
    "## The Analysis\n",
    "We will first setup everything in order to then run the code. Once the code was run, we will analyze with graphics how is it that we got to the show result\n",
    "### The setup"
   ]
  },
  {
   "cell_type": "code",
   "execution_count": 1,
   "metadata": {
    "ExecuteTime": {
     "end_time": "2017-12-08T21:54:31.878946Z",
     "start_time": "2017-12-08T21:54:31.665377Z"
    }
   },
   "outputs": [
    {
     "name": "stdout",
     "output_type": "stream",
     "text": [
      "### MODE ###\n",
      "7935999.28515625\n",
      "### Data_cleared[0] ###\n",
      "5537706.07421875\n",
      "### MODE WITH PYTHON####\n",
      "5537706.07421875\n",
      "@@@ DOWNSTREAM THRESHOLD @@@\n",
      "9135145.890625\n",
      "@@@ DOWNSTREAM MODE @@@\n",
      "7935999.28515625\n",
      "#### Area from Threshold ######\n",
      "0.024661091891876874\n",
      "#### Area MODE ######\n",
      "0.9890036997227791\n",
      "#### Longitud de mediciones ######\n",
      "591\n",
      "#### Minimo ######\n",
      "5537706.07421875\n",
      "#### Maximo ######\n",
      "116881315.96484375\n",
      "#### Quartil 25% ######\n",
      "7770750.84375\n",
      "#### Quartil 50% ######\n",
      "8307422.5\n",
      "#### Quartil 75% ######\n",
      "9547493.2421875\n"
     ]
    }
   ],
   "source": [
    "# This will be a matplotlib notebook\n",
    "%matplotlib inline\n",
    "# We import all the dependencies here\n",
    "from functools import partial\n",
    "from os import getcwd\n",
    "from os.path import join\n",
    "\n",
    "import pprint\n",
    "\n",
    "\n",
    "import matplotlib.pyplot as plt\n",
    "import numpy as np\n",
    "from processor.analysis.analysis import Analyzer\n",
    "from processor.reports.report_handler import ReportHandler\n",
    "from processor.analysis.utils import observation_rtt_key_function\n",
    "import pandas as pd\n",
    "\n",
    "# And setup the basic stuff, configure the pretty printer, load the reports, setup the analyzer and\n",
    "# define some more stuff.\n",
    "pprinter = pprint.PrettyPrinter(indent=2)\n",
    "#reports_directory = join(getcwd(), 'batch-test-report', '1696913783')\n",
    "reports_directory = \"/home/agustin/Desktop/LogsTestsMerged/Test2023-12-23/batch-reports/1703407752\"\n",
    "reports_handler = ReportHandler(reports_directory)\n",
    "ip, obs_set = reports_handler.get_ip_and_processable_observations()\n",
    "if ip is None and obs_set is None:\n",
    "    raise ValueError('No enough processable reports in directory {}'.format(reports_directory))\n",
    "analyzer = Analyzer(obs_set)"
   ]
  },
  {
   "cell_type": "code",
   "execution_count": 2,
   "metadata": {
    "ExecuteTime": {
     "end_time": "2017-12-08T21:54:31.904090Z",
     "start_time": "2017-12-08T21:54:31.880154Z"
    }
   },
   "outputs": [],
   "source": [
    "def get_bins_and_bins_probabilities_dfs(histogram, probabilities_name='probabilities'):\n",
    "    bins_df = pd.DataFrame([{'min_value': bin_.min_value,\n",
    "                             'mid_value': bin_.mid_value,\n",
    "                             'max_value': bin_.max_value,\n",
    "                             'width': bin_.width,\n",
    "                             'data_points_qty': len(bin_.data)}\n",
    "                            for bin_ in histogram.bins])\n",
    "    bins_probabilities_normalized_df = pd.DataFrame(histogram.bins_probabilities,\n",
    "                                                    columns=[probabilities_name]) * (10**8)\n",
    "    bins_probabilities_df = pd.concat([bins_probabilities_normalized_df, \n",
    "                                       bins_df['mid_value']],\n",
    "                                      axis=1)\n",
    "\n",
    "    display(bins_df)\n",
    "    display(bins_probabilities_df)\n",
    "    return bins_df, bins_probabilities_df\n",
    "\n",
    "def plot_histogram_and_pdf(fig, axs, fixed_size_bin_histogram, histogram_name, logy=True, logx=True):\n",
    "    print(\"FIXED\")\n",
    "    print(fixed_size_bin_histogram)\n",
    "    bins_df, bins_probabilities_df = get_bins_and_bins_probabilities_dfs(fixed_size_bin_histogram, histogram_name)\n",
    "    print(\"Sum probs: \")\n",
    "    print(bins_probabilities_df.sum())\n",
    "    print(\"bins_df\")\n",
    "    print(bins_df)\n",
    "    print(\"@@Mode@@\")\n",
    "    print(fixed_size_bin_histogram.mode)\n",
    "    print(\"@@Threshold@@\")\n",
    "    print(fixed_size_bin_histogram.threshold)\n",
    "    data = [fixed_size_bin_histogram.characterization_function(d) \n",
    "            for d in fixed_size_bin_histogram.data]\n",
    "    ranges = [b.min_value for b in fixed_size_bin_histogram.bins]\n",
    "    ranges.append(fixed_size_bin_histogram.bins[-1].max_value)\n",
    "    axs[0].hist(data, bins=ranges, edgecolor='black')\n",
    "    # upstream_bins_df.plot.bar('mid_value', 'width', logy=True, ax=axs[0])\n",
    "    bins_probabilities_df.plot('mid_value', histogram_name, \n",
    "                               logy=True, \n",
    "                               logx=True, \n",
    "                               ax=axs[1])\n",
    "    axs[1].axvline(fixed_size_bin_histogram.mode, color='green', label='mode')\n",
    "    axs[1].axvline(fixed_size_bin_histogram.threshold, color='red', label='threshold')\n",
    "    axs[1].legend()"
   ]
  },
  {
   "cell_type": "code",
   "execution_count": 3,
   "metadata": {
    "ExecuteTime": {
     "end_time": "2017-12-08T21:54:31.978982Z",
     "start_time": "2017-12-08T21:54:31.905215Z"
    },
    "code_folding": []
   },
   "outputs": [
    {
     "name": "stdout",
     "output_type": "stream",
     "text": [
      "{ 'downstream': {'usage': 0.024935287804069343},\n",
      "  'timestamp': 1703409384,\n",
      "  'upstream': {'usage': 0.5866666666666667}}\n"
     ]
    }
   ],
   "source": [
    "# Finally we print the results... This is what is expected to go to the API\n",
    "pprinter.pprint(analyzer.get_results())"
   ]
  },
  {
   "cell_type": "markdown",
   "metadata": {},
   "source": [
    "### The RTT Histogram and the clock correction"
   ]
  },
  {
   "cell_type": "code",
   "execution_count": 4,
   "metadata": {
    "ExecuteTime": {
     "end_time": "2017-12-08T21:54:32.346426Z",
     "start_time": "2017-12-08T21:54:31.981341Z"
    }
   },
   "outputs": [
    {
     "name": "stdout",
     "output_type": "stream",
     "text": [
      "FIXED\n",
      "<processor.analysis.histogram.FixedSizeBinHistogram object at 0x7fc8a299e5b0>\n"
     ]
    },
    {
     "data": {
      "text/html": [
       "<div>\n",
       "<style scoped>\n",
       "    .dataframe tbody tr th:only-of-type {\n",
       "        vertical-align: middle;\n",
       "    }\n",
       "\n",
       "    .dataframe tbody tr th {\n",
       "        vertical-align: top;\n",
       "    }\n",
       "\n",
       "    .dataframe thead th {\n",
       "        text-align: right;\n",
       "    }\n",
       "</style>\n",
       "<table border=\"1\" class=\"dataframe\">\n",
       "  <thead>\n",
       "    <tr style=\"text-align: right;\">\n",
       "      <th></th>\n",
       "      <th>min_value</th>\n",
       "      <th>mid_value</th>\n",
       "      <th>max_value</th>\n",
       "      <th>width</th>\n",
       "      <th>data_points_qty</th>\n",
       "    </tr>\n",
       "  </thead>\n",
       "  <tbody>\n",
       "    <tr>\n",
       "      <th>0</th>\n",
       "      <td>5.537706e+06</td>\n",
       "      <td>6.210317e+06</td>\n",
       "      <td>6.882928e+06</td>\n",
       "      <td>1.345222e+06</td>\n",
       "      <td>24</td>\n",
       "    </tr>\n",
       "    <tr>\n",
       "      <th>1</th>\n",
       "      <td>6.928624e+06</td>\n",
       "      <td>7.053427e+06</td>\n",
       "      <td>7.178232e+06</td>\n",
       "      <td>2.496079e+05</td>\n",
       "      <td>24</td>\n",
       "    </tr>\n",
       "    <tr>\n",
       "      <th>2</th>\n",
       "      <td>7.181920e+06</td>\n",
       "      <td>7.276549e+06</td>\n",
       "      <td>7.371179e+06</td>\n",
       "      <td>1.892587e+05</td>\n",
       "      <td>24</td>\n",
       "    </tr>\n",
       "    <tr>\n",
       "      <th>3</th>\n",
       "      <td>7.375234e+06</td>\n",
       "      <td>7.452956e+06</td>\n",
       "      <td>7.530678e+06</td>\n",
       "      <td>1.554440e+05</td>\n",
       "      <td>24</td>\n",
       "    </tr>\n",
       "    <tr>\n",
       "      <th>4</th>\n",
       "      <td>7.539200e+06</td>\n",
       "      <td>7.595080e+06</td>\n",
       "      <td>7.650961e+06</td>\n",
       "      <td>1.117611e+05</td>\n",
       "      <td>24</td>\n",
       "    </tr>\n",
       "    <tr>\n",
       "      <th>5</th>\n",
       "      <td>7.650998e+06</td>\n",
       "      <td>7.704455e+06</td>\n",
       "      <td>7.757913e+06</td>\n",
       "      <td>1.069153e+05</td>\n",
       "      <td>24</td>\n",
       "    </tr>\n",
       "    <tr>\n",
       "      <th>6</th>\n",
       "      <td>7.758443e+06</td>\n",
       "      <td>7.794602e+06</td>\n",
       "      <td>7.830762e+06</td>\n",
       "      <td>7.231826e+04</td>\n",
       "      <td>24</td>\n",
       "    </tr>\n",
       "    <tr>\n",
       "      <th>7</th>\n",
       "      <td>7.832030e+06</td>\n",
       "      <td>7.875648e+06</td>\n",
       "      <td>7.919267e+06</td>\n",
       "      <td>8.723732e+04</td>\n",
       "      <td>24</td>\n",
       "    </tr>\n",
       "    <tr>\n",
       "      <th>8</th>\n",
       "      <td>7.922847e+06</td>\n",
       "      <td>7.959837e+06</td>\n",
       "      <td>7.996829e+06</td>\n",
       "      <td>7.398173e+04</td>\n",
       "      <td>24</td>\n",
       "    </tr>\n",
       "    <tr>\n",
       "      <th>9</th>\n",
       "      <td>7.999650e+06</td>\n",
       "      <td>8.041330e+06</td>\n",
       "      <td>8.083012e+06</td>\n",
       "      <td>8.336195e+04</td>\n",
       "      <td>24</td>\n",
       "    </tr>\n",
       "    <tr>\n",
       "      <th>10</th>\n",
       "      <td>8.086173e+06</td>\n",
       "      <td>8.122272e+06</td>\n",
       "      <td>8.158372e+06</td>\n",
       "      <td>7.219853e+04</td>\n",
       "      <td>24</td>\n",
       "    </tr>\n",
       "    <tr>\n",
       "      <th>11</th>\n",
       "      <td>8.158659e+06</td>\n",
       "      <td>8.208223e+06</td>\n",
       "      <td>8.257788e+06</td>\n",
       "      <td>9.912919e+04</td>\n",
       "      <td>24</td>\n",
       "    </tr>\n",
       "    <tr>\n",
       "      <th>12</th>\n",
       "      <td>8.264609e+06</td>\n",
       "      <td>8.326009e+06</td>\n",
       "      <td>8.387411e+06</td>\n",
       "      <td>1.228019e+05</td>\n",
       "      <td>24</td>\n",
       "    </tr>\n",
       "    <tr>\n",
       "      <th>13</th>\n",
       "      <td>8.393278e+06</td>\n",
       "      <td>8.449520e+06</td>\n",
       "      <td>8.505765e+06</td>\n",
       "      <td>1.124877e+05</td>\n",
       "      <td>24</td>\n",
       "    </tr>\n",
       "    <tr>\n",
       "      <th>14</th>\n",
       "      <td>8.508166e+06</td>\n",
       "      <td>8.565253e+06</td>\n",
       "      <td>8.622340e+06</td>\n",
       "      <td>1.141745e+05</td>\n",
       "      <td>24</td>\n",
       "    </tr>\n",
       "    <tr>\n",
       "      <th>15</th>\n",
       "      <td>8.642517e+06</td>\n",
       "      <td>8.725652e+06</td>\n",
       "      <td>8.808787e+06</td>\n",
       "      <td>1.662709e+05</td>\n",
       "      <td>24</td>\n",
       "    </tr>\n",
       "    <tr>\n",
       "      <th>16</th>\n",
       "      <td>8.819586e+06</td>\n",
       "      <td>8.926550e+06</td>\n",
       "      <td>9.033515e+06</td>\n",
       "      <td>2.139294e+05</td>\n",
       "      <td>24</td>\n",
       "    </tr>\n",
       "    <tr>\n",
       "      <th>17</th>\n",
       "      <td>9.068605e+06</td>\n",
       "      <td>9.207593e+06</td>\n",
       "      <td>9.346582e+06</td>\n",
       "      <td>2.779768e+05</td>\n",
       "      <td>24</td>\n",
       "    </tr>\n",
       "    <tr>\n",
       "      <th>18</th>\n",
       "      <td>9.353264e+06</td>\n",
       "      <td>9.654476e+06</td>\n",
       "      <td>9.955688e+06</td>\n",
       "      <td>6.024244e+05</td>\n",
       "      <td>24</td>\n",
       "    </tr>\n",
       "    <tr>\n",
       "      <th>19</th>\n",
       "      <td>9.962445e+06</td>\n",
       "      <td>1.030037e+07</td>\n",
       "      <td>1.063830e+07</td>\n",
       "      <td>6.758567e+05</td>\n",
       "      <td>24</td>\n",
       "    </tr>\n",
       "    <tr>\n",
       "      <th>20</th>\n",
       "      <td>1.067935e+07</td>\n",
       "      <td>1.091495e+07</td>\n",
       "      <td>1.115054e+07</td>\n",
       "      <td>4.711894e+05</td>\n",
       "      <td>24</td>\n",
       "    </tr>\n",
       "    <tr>\n",
       "      <th>21</th>\n",
       "      <td>1.116253e+07</td>\n",
       "      <td>1.209852e+07</td>\n",
       "      <td>1.303452e+07</td>\n",
       "      <td>1.871996e+06</td>\n",
       "      <td>24</td>\n",
       "    </tr>\n",
       "    <tr>\n",
       "      <th>22</th>\n",
       "      <td>1.322195e+07</td>\n",
       "      <td>1.461238e+07</td>\n",
       "      <td>1.600280e+07</td>\n",
       "      <td>2.780850e+06</td>\n",
       "      <td>24</td>\n",
       "    </tr>\n",
       "    <tr>\n",
       "      <th>23</th>\n",
       "      <td>1.600309e+07</td>\n",
       "      <td>6.644220e+07</td>\n",
       "      <td>1.168813e+08</td>\n",
       "      <td>1.008782e+08</td>\n",
       "      <td>39</td>\n",
       "    </tr>\n",
       "  </tbody>\n",
       "</table>\n",
       "</div>"
      ],
      "text/plain": [
       "       min_value     mid_value     max_value         width  data_points_qty\n",
       "0   5.537706e+06  6.210317e+06  6.882928e+06  1.345222e+06               24\n",
       "1   6.928624e+06  7.053427e+06  7.178232e+06  2.496079e+05               24\n",
       "2   7.181920e+06  7.276549e+06  7.371179e+06  1.892587e+05               24\n",
       "3   7.375234e+06  7.452956e+06  7.530678e+06  1.554440e+05               24\n",
       "4   7.539200e+06  7.595080e+06  7.650961e+06  1.117611e+05               24\n",
       "5   7.650998e+06  7.704455e+06  7.757913e+06  1.069153e+05               24\n",
       "6   7.758443e+06  7.794602e+06  7.830762e+06  7.231826e+04               24\n",
       "7   7.832030e+06  7.875648e+06  7.919267e+06  8.723732e+04               24\n",
       "8   7.922847e+06  7.959837e+06  7.996829e+06  7.398173e+04               24\n",
       "9   7.999650e+06  8.041330e+06  8.083012e+06  8.336195e+04               24\n",
       "10  8.086173e+06  8.122272e+06  8.158372e+06  7.219853e+04               24\n",
       "11  8.158659e+06  8.208223e+06  8.257788e+06  9.912919e+04               24\n",
       "12  8.264609e+06  8.326009e+06  8.387411e+06  1.228019e+05               24\n",
       "13  8.393278e+06  8.449520e+06  8.505765e+06  1.124877e+05               24\n",
       "14  8.508166e+06  8.565253e+06  8.622340e+06  1.141745e+05               24\n",
       "15  8.642517e+06  8.725652e+06  8.808787e+06  1.662709e+05               24\n",
       "16  8.819586e+06  8.926550e+06  9.033515e+06  2.139294e+05               24\n",
       "17  9.068605e+06  9.207593e+06  9.346582e+06  2.779768e+05               24\n",
       "18  9.353264e+06  9.654476e+06  9.955688e+06  6.024244e+05               24\n",
       "19  9.962445e+06  1.030037e+07  1.063830e+07  6.758567e+05               24\n",
       "20  1.067935e+07  1.091495e+07  1.115054e+07  4.711894e+05               24\n",
       "21  1.116253e+07  1.209852e+07  1.303452e+07  1.871996e+06               24\n",
       "22  1.322195e+07  1.461238e+07  1.600280e+07  2.780850e+06               24\n",
       "23  1.600309e+07  6.644220e+07  1.168813e+08  1.008782e+08               39"
      ]
     },
     "metadata": {},
     "output_type": "display_data"
    },
    {
     "data": {
      "text/html": [
       "<div>\n",
       "<style scoped>\n",
       "    .dataframe tbody tr th:only-of-type {\n",
       "        vertical-align: middle;\n",
       "    }\n",
       "\n",
       "    .dataframe tbody tr th {\n",
       "        vertical-align: top;\n",
       "    }\n",
       "\n",
       "    .dataframe thead th {\n",
       "        text-align: right;\n",
       "    }\n",
       "</style>\n",
       "<table border=\"1\" class=\"dataframe\">\n",
       "  <thead>\n",
       "    <tr style=\"text-align: right;\">\n",
       "      <th></th>\n",
       "      <th>rtt_probabilities</th>\n",
       "      <th>mid_value</th>\n",
       "    </tr>\n",
       "  </thead>\n",
       "  <tbody>\n",
       "    <tr>\n",
       "      <th>0</th>\n",
       "      <td>1784.091744</td>\n",
       "      <td>6.210317e+06</td>\n",
       "    </tr>\n",
       "    <tr>\n",
       "      <th>1</th>\n",
       "      <td>9615.080653</td>\n",
       "      <td>7.053427e+06</td>\n",
       "    </tr>\n",
       "    <tr>\n",
       "      <th>2</th>\n",
       "      <td>12681.053567</td>\n",
       "      <td>7.276549e+06</td>\n",
       "    </tr>\n",
       "    <tr>\n",
       "      <th>3</th>\n",
       "      <td>15439.643083</td>\n",
       "      <td>7.452956e+06</td>\n",
       "    </tr>\n",
       "    <tr>\n",
       "      <th>4</th>\n",
       "      <td>21474.372238</td>\n",
       "      <td>7.595080e+06</td>\n",
       "    </tr>\n",
       "    <tr>\n",
       "      <th>5</th>\n",
       "      <td>22447.683088</td>\n",
       "      <td>7.704455e+06</td>\n",
       "    </tr>\n",
       "    <tr>\n",
       "      <th>6</th>\n",
       "      <td>33186.638381</td>\n",
       "      <td>7.794602e+06</td>\n",
       "    </tr>\n",
       "    <tr>\n",
       "      <th>7</th>\n",
       "      <td>27511.161409</td>\n",
       "      <td>7.875648e+06</td>\n",
       "    </tr>\n",
       "    <tr>\n",
       "      <th>8</th>\n",
       "      <td>32440.443222</td>\n",
       "      <td>7.959837e+06</td>\n",
       "    </tr>\n",
       "    <tr>\n",
       "      <th>9</th>\n",
       "      <td>28790.115094</td>\n",
       "      <td>8.041330e+06</td>\n",
       "    </tr>\n",
       "    <tr>\n",
       "      <th>10</th>\n",
       "      <td>33241.673459</td>\n",
       "      <td>8.122272e+06</td>\n",
       "    </tr>\n",
       "    <tr>\n",
       "      <th>11</th>\n",
       "      <td>24210.830942</td>\n",
       "      <td>8.208223e+06</td>\n",
       "    </tr>\n",
       "    <tr>\n",
       "      <th>12</th>\n",
       "      <td>19543.674291</td>\n",
       "      <td>8.326009e+06</td>\n",
       "    </tr>\n",
       "    <tr>\n",
       "      <th>13</th>\n",
       "      <td>21335.665440</td>\n",
       "      <td>8.449520e+06</td>\n",
       "    </tr>\n",
       "    <tr>\n",
       "      <th>14</th>\n",
       "      <td>21020.454812</td>\n",
       "      <td>8.565253e+06</td>\n",
       "    </tr>\n",
       "    <tr>\n",
       "      <th>15</th>\n",
       "      <td>14434.279836</td>\n",
       "      <td>8.725652e+06</td>\n",
       "    </tr>\n",
       "    <tr>\n",
       "      <th>16</th>\n",
       "      <td>11218.654051</td>\n",
       "      <td>8.926550e+06</td>\n",
       "    </tr>\n",
       "    <tr>\n",
       "      <th>17</th>\n",
       "      <td>8633.812929</td>\n",
       "      <td>9.207593e+06</td>\n",
       "    </tr>\n",
       "    <tr>\n",
       "      <th>18</th>\n",
       "      <td>3983.902260</td>\n",
       "      <td>9.654476e+06</td>\n",
       "    </tr>\n",
       "    <tr>\n",
       "      <th>19</th>\n",
       "      <td>3551.048683</td>\n",
       "      <td>1.030037e+07</td>\n",
       "    </tr>\n",
       "    <tr>\n",
       "      <th>20</th>\n",
       "      <td>5093.493207</td>\n",
       "      <td>1.091495e+07</td>\n",
       "    </tr>\n",
       "    <tr>\n",
       "      <th>21</th>\n",
       "      <td>1282.054080</td>\n",
       "      <td>1.209852e+07</td>\n",
       "    </tr>\n",
       "    <tr>\n",
       "      <th>22</th>\n",
       "      <td>863.045343</td>\n",
       "      <td>1.461238e+07</td>\n",
       "    </tr>\n",
       "    <tr>\n",
       "      <th>23</th>\n",
       "      <td>38.660473</td>\n",
       "      <td>6.644220e+07</td>\n",
       "    </tr>\n",
       "  </tbody>\n",
       "</table>\n",
       "</div>"
      ],
      "text/plain": [
       "    rtt_probabilities     mid_value\n",
       "0         1784.091744  6.210317e+06\n",
       "1         9615.080653  7.053427e+06\n",
       "2        12681.053567  7.276549e+06\n",
       "3        15439.643083  7.452956e+06\n",
       "4        21474.372238  7.595080e+06\n",
       "5        22447.683088  7.704455e+06\n",
       "6        33186.638381  7.794602e+06\n",
       "7        27511.161409  7.875648e+06\n",
       "8        32440.443222  7.959837e+06\n",
       "9        28790.115094  8.041330e+06\n",
       "10       33241.673459  8.122272e+06\n",
       "11       24210.830942  8.208223e+06\n",
       "12       19543.674291  8.326009e+06\n",
       "13       21335.665440  8.449520e+06\n",
       "14       21020.454812  8.565253e+06\n",
       "15       14434.279836  8.725652e+06\n",
       "16       11218.654051  8.926550e+06\n",
       "17        8633.812929  9.207593e+06\n",
       "18        3983.902260  9.654476e+06\n",
       "19        3551.048683  1.030037e+07\n",
       "20        5093.493207  1.091495e+07\n",
       "21        1282.054080  1.209852e+07\n",
       "22         863.045343  1.461238e+07\n",
       "23          38.660473  6.644220e+07"
      ]
     },
     "metadata": {},
     "output_type": "display_data"
    },
    {
     "name": "stdout",
     "output_type": "stream",
     "text": [
      "Sum probs: \n",
      "rtt_probabilities    3.738215e+05\n",
      "mid_value            2.675182e+08\n",
      "dtype: float64\n",
      "bins_df\n",
      "       min_value     mid_value     max_value         width  data_points_qty\n",
      "0   5.537706e+06  6.210317e+06  6.882928e+06  1.345222e+06               24\n",
      "1   6.928624e+06  7.053427e+06  7.178232e+06  2.496079e+05               24\n",
      "2   7.181920e+06  7.276549e+06  7.371179e+06  1.892587e+05               24\n",
      "3   7.375234e+06  7.452956e+06  7.530678e+06  1.554440e+05               24\n",
      "4   7.539200e+06  7.595080e+06  7.650961e+06  1.117611e+05               24\n",
      "5   7.650998e+06  7.704455e+06  7.757913e+06  1.069153e+05               24\n",
      "6   7.758443e+06  7.794602e+06  7.830762e+06  7.231826e+04               24\n",
      "7   7.832030e+06  7.875648e+06  7.919267e+06  8.723732e+04               24\n",
      "8   7.922847e+06  7.959837e+06  7.996829e+06  7.398173e+04               24\n",
      "9   7.999650e+06  8.041330e+06  8.083012e+06  8.336195e+04               24\n",
      "10  8.086173e+06  8.122272e+06  8.158372e+06  7.219853e+04               24\n",
      "11  8.158659e+06  8.208223e+06  8.257788e+06  9.912919e+04               24\n",
      "12  8.264609e+06  8.326009e+06  8.387411e+06  1.228019e+05               24\n",
      "13  8.393278e+06  8.449520e+06  8.505765e+06  1.124877e+05               24\n",
      "14  8.508166e+06  8.565253e+06  8.622340e+06  1.141745e+05               24\n",
      "15  8.642517e+06  8.725652e+06  8.808787e+06  1.662709e+05               24\n",
      "16  8.819586e+06  8.926550e+06  9.033515e+06  2.139294e+05               24\n",
      "17  9.068605e+06  9.207593e+06  9.346582e+06  2.779768e+05               24\n",
      "18  9.353264e+06  9.654476e+06  9.955688e+06  6.024244e+05               24\n",
      "19  9.962445e+06  1.030037e+07  1.063830e+07  6.758567e+05               24\n",
      "20  1.067935e+07  1.091495e+07  1.115054e+07  4.711894e+05               24\n",
      "21  1.116253e+07  1.209852e+07  1.303452e+07  1.871996e+06               24\n",
      "22  1.322195e+07  1.461238e+07  1.600280e+07  2.780850e+06               24\n",
      "23  1.600309e+07  6.644220e+07  1.168813e+08  1.008782e+08               39\n",
      "@@Mode@@\n",
      "7935999.28515625\n",
      "@@Threshold@@\n",
      "9135145.890625\n"
     ]
    },
    {
     "data": {
      "image/png": "[encoded data removed]",
      "text/plain": [
       "<Figure size 640x480 with 2 Axes>"
      ]
     },
     "metadata": {},
     "output_type": "display_data"
    }
   ],
   "source": [
    "fig, axs = plt.subplots(1, 2)\n",
    "plot_histogram_and_pdf(fig, axs, analyzer.usage_calculator.downstream_histogram, 'rtt_probabilities')"
   ]
  },
  {
   "cell_type": "code",
   "execution_count": 5,
   "metadata": {
    "ExecuteTime": {
     "end_time": "2017-12-08T21:54:32.350569Z",
     "start_time": "2017-12-08T21:54:32.347529Z"
    },
    "scrolled": true
   },
   "outputs": [
    {
     "data": {
      "text/plain": [
       "{'tau': 20127604, 'tau_threshold': 7916267.8636779785}"
      ]
     },
     "execution_count": 5,
     "metadata": {},
     "output_type": "execute_result"
    }
   ],
   "source": [
    "{'tau': analyzer.rtt_histogram.mode, 'tau_threshold': analyzer.rtt_histogram.threshold}"
   ]
  },
  {
   "cell_type": "markdown",
   "metadata": {},
   "source": [
    "### Clock Fixer"
   ]
  },
  {
   "cell_type": "code",
   "execution_count": 8,
   "metadata": {
    "ExecuteTime": {
     "end_time": "2017-12-08T21:54:32.513701Z",
     "start_time": "2017-12-08T21:54:32.352592Z"
    }
   },
   "outputs": [
    {
     "data": {
      "text/plain": [
       "<matplotlib.collections.PathCollection at 0x7fcff86b41c0>"
      ]
     },
     "execution_count": 8,
     "metadata": {},
     "output_type": "execute_result"
    },
    {
     "data": {
      "image/png": "[encoded data removed]",
      "text/plain": [
       "<Figure size 640x480 with 1 Axes>"
      ]
     },
     "metadata": {},
     "output_type": "display_data"
    }
   ],
   "source": [
    "# phis_timestamps, phis = tuple(zip(*analyzer.clock_fixer.phis_for_minute))\n",
    "fig, ax = plt.subplots()\n",
    "# regression_values = [analyzer.clock_fixer.slope * ts + analyzer.clock_fixer.intercept for ts in phis_timestamps]\n",
    "\n",
    "# ax.plot(phis_timestamps, regression_values, '-', color='red', label='regression')\n",
    "# ax.legend()\n",
    "obs_timestamps, rtts = tuple(zip(*[(o.day_timestamp, observation_rtt_key_function(o)) \n",
    "                                   for o in analyzer.clock_fixer.observations]))\n",
    "ax.scatter(obs_timestamps, rtts, s=1)"
   ]
  },
  {
   "cell_type": "code",
   "execution_count": 7,
   "metadata": {
    "ExecuteTime": {
     "end_time": "2017-12-08T21:54:32.611653Z",
     "start_time": "2017-12-08T21:54:32.516201Z"
    }
   },
   "outputs": [
    {
     "data": {
      "text/plain": [
       "[<matplotlib.lines.Line2D at 0x7fd4e3defa90>]"
      ]
     },
     "execution_count": 7,
     "metadata": {},
     "output_type": "execute_result"
    },
    {
     "data": {
      "image/png": "[encoded data removed]",
      "text/plain": [
       "<Figure size 640x480 with 1 Axes>"
      ]
     },
     "metadata": {},
     "output_type": "display_data"
    }
   ],
   "source": [
    "fig, ax = plt.subplots()\n",
    "obs_by_day_timestamp = sorted(analyzer.observations, key=lambda o: o.day_timestamp)\n",
    "y, x = tuple(zip(*[(analyzer.clock_fixer.phi_function(o.day_timestamp), o.day_timestamp)\n",
    "                   for o in obs_by_day_timestamp]))\n",
    "\n",
    "ax.plot(x, y)"
   ]
  },
  {
   "cell_type": "code",
   "execution_count": 8,
   "metadata": {
    "ExecuteTime": {
     "end_time": "2017-12-08T21:54:32.641675Z",
     "start_time": "2017-12-08T21:54:32.613042Z"
    }
   },
   "outputs": [
    {
     "data": {
      "text/plain": [
       "(0.014202656, 0.016166354)"
      ]
     },
     "execution_count": 8,
     "metadata": {},
     "output_type": "execute_result"
    }
   ],
   "source": [
    "rtts = [observation_rtt_key_function(o) for o in analyzer.clock_fixer.observations]\n",
    "max_rtt = max(rtts)\n",
    "min_rtt = min(rtts)\n",
    "min_rtt/10**9, max_rtt/10**9"
   ]
  },
  {
   "cell_type": "code",
   "execution_count": 9,
   "metadata": {
    "ExecuteTime": {
     "end_time": "2017-12-08T21:54:32.748678Z",
     "start_time": "2017-12-08T21:54:32.644790Z"
    }
   },
   "outputs": [],
   "source": [
    "# {'slope': analyzer.clock_fixer.slope, 'intercept': analyzer.clock_fixer.intercept}"
   ]
  },
  {
   "cell_type": "code",
   "execution_count": 10,
   "metadata": {
    "ExecuteTime": {
     "end_time": "2017-12-08T21:54:32.898148Z",
     "start_time": "2017-12-08T21:54:32.749871Z"
    }
   },
   "outputs": [],
   "source": [
    "# {'r_value': analyzer.clock_fixer.r_value, 'p_value': analyzer.clock_fixer.p_value, 'std_err': analyzer.clock_fixer.std_err}"
   ]
  },
  {
   "cell_type": "markdown",
   "metadata": {},
   "source": [
    "### Data Usage"
   ]
  },
  {
   "cell_type": "markdown",
   "metadata": {},
   "source": [
    "#### Upstream"
   ]
  },
  {
   "cell_type": "code",
   "execution_count": 11,
   "metadata": {
    "ExecuteTime": {
     "end_time": "2017-12-08T21:54:33.499071Z",
     "start_time": "2017-12-08T21:54:32.900735Z"
    }
   },
   "outputs": [
    {
     "name": "stdout",
     "output_type": "stream",
     "text": [
      "FIXED\n",
      "<processor.analysis.histogram.FixedSizeBinHistogram object at 0x7fd4ebb19130>\n",
      "bins_prob\n",
      "    upstream_probabilities     mid_value\n",
      "0             4.904460e+11  7.365387e+06\n",
      "1             6.375492e+11  8.372289e+06\n",
      "2             1.132074e+12  9.167472e+06\n",
      "3             1.124183e+12  9.687105e+06\n",
      "4             2.341546e+12  1.008252e+07\n",
      "5             3.303147e+12  1.028912e+07\n",
      "6             2.715119e+12  1.052526e+07\n",
      "7             3.038888e+12  1.075993e+07\n",
      "8             2.402752e+12  1.097661e+07\n",
      "9             2.218460e+12  1.122332e+07\n",
      "10            2.004364e+12  1.148474e+07\n",
      "11            1.817671e+12  1.179953e+07\n",
      "12            1.321850e+12  1.216789e+07\n",
      "13            1.663075e+12  1.258387e+07\n",
      "14            9.495508e+11  1.305278e+07\n",
      "15            8.540983e+11  1.370115e+07\n",
      "16            1.199104e+12  1.427955e+07\n",
      "17            9.816076e+11  1.479850e+07\n",
      "18            9.340438e+11  1.538135e+07\n",
      "19            6.347430e+11  1.611501e+07\n",
      "20            5.688832e+11  1.704596e+07\n",
      "21            5.013938e+11  1.807999e+07\n",
      "22            2.282040e+11  1.991426e+07\n",
      "23            1.619548e+09  1.257069e+08\n",
      "bins_df\n",
      "       min_value     mid_value     max_value         width  data_points_qty\n",
      "0   6.804462e+06  7.365387e+06  7.926312e+06  1.121850e+06               24\n",
      "1   7.940788e+06  8.372289e+06  8.803791e+06  8.630030e+05               24\n",
      "2   8.924464e+06  9.167472e+06  9.410481e+06  4.860169e+05               24\n",
      "3   9.442391e+06  9.687105e+06  9.931819e+06  4.894282e+05               24\n",
      "4   9.965031e+06  1.008252e+07  1.020001e+07  2.349760e+05               24\n",
      "5   1.020584e+07  1.028912e+07  1.037241e+07  1.665705e+05               24\n",
      "6   1.042394e+07  1.052526e+07  1.062659e+07  2.026456e+05               24\n",
      "7   1.066940e+07  1.075993e+07  1.085046e+07  1.810553e+05               24\n",
      "8   1.086212e+07  1.097661e+07  1.109111e+07  2.289903e+05               24\n",
      "9   1.109931e+07  1.122332e+07  1.134733e+07  2.480130e+05               24\n",
      "10  1.134748e+07  1.148474e+07  1.162199e+07  2.745044e+05               24\n",
      "11  1.164818e+07  1.179953e+07  1.195088e+07  3.026989e+05               24\n",
      "12  1.195977e+07  1.216789e+07  1.237601e+07  4.162400e+05               24\n",
      "13  1.241845e+07  1.258387e+07  1.274928e+07  3.308372e+05               24\n",
      "14  1.276306e+07  1.305278e+07  1.334250e+07  5.794392e+05               24\n",
      "15  1.337905e+07  1.370115e+07  1.402325e+07  6.441962e+05               24\n",
      "16  1.405013e+07  1.427955e+07  1.450898e+07  4.588485e+05               24\n",
      "17  1.451824e+07  1.479850e+07  1.507876e+07  5.605161e+05               24\n",
      "18  1.508682e+07  1.538135e+07  1.567588e+07  5.890590e+05               24\n",
      "19  1.568160e+07  1.611501e+07  1.654842e+07  8.668183e+05               24\n",
      "20  1.656238e+07  1.704596e+07  1.752955e+07  9.671703e+05               24\n",
      "21  1.753131e+07  1.807999e+07  1.862866e+07  1.097355e+06               24\n",
      "22  1.870874e+07  1.991426e+07  2.111977e+07  2.411031e+06               24\n",
      "23  2.117497e+07  1.257069e+08  2.302387e+08  2.090638e+08               39\n",
      "DATAA\n",
      "[6804462.0, 7084275.0, 7117506.0, 7300184.5, 7387384.5, 7414812.0, 7444804.0, 7466757.5, 7501250.5, 7502933.5, 7508574.0, 7536227.59375, 7578120.5, 7588184.78125, 7625850.0, 7638418.0, 7641974.171875, 7663621.5, 7684940.0, 7711236.0, 7773780.5, 7832276.0, 7898305.0, 7926312.0, 7940788.0, 7956416.65625, 7994919.5, 8000565.5, 8020803.5, 8064193.0, 8064354.5, 8068032.5, 8079615.5, 8080281.828125, 8115759.0, 8228817.0, 8279124.0, 8408994.1484375, 8498174.0, 8510462.5, 8519278.0, 8552302.0, 8588587.0, 8627389.0, 8653483.75, 8754638.8125, 8768453.0, 8803791.0, 8924464.109375, 8969460.0, 9021311.0, 9033343.0, 9039223.0, 9046260.0, 9051572.0, 9060090.0, 9091798.375, 9093542.0, 9131547.0, 9164702.0, 9185481.0, 9200091.0, 9236558.0, 9274384.0, 9286277.0, 9298180.0, 9299464.0, 9311962.0, 9344805.8046875, 9345978.0, 9377197.0, 9410481.0, 9442391.0, 9457931.0, 9468661.0, 9473296.0, 9474749.8828125, 9518559.0, 9541623.0, 9544733.0, 9576784.0, 9590186.0, 9591147.0, 9606541.0, 9650261.0, 9673945.9375, 9694727.0, 9752863.234375, 9797431.0, 9800045.1875, 9804453.359375, 9816973.09375, 9817572.84375, 9841838.6640625, 9887431.0, 9931819.15625, 9965030.5625, 9977392.625, 9989497.0, 10054794.40625, 10067991.0, 10078673.171875, 10091044.6953125, 10097969.0, 10102108.0, 10108261.34375, 10120331.4140625, 10129577.3984375, 10134511.0, 10140392.0, 10149311.15625, 10167584.0, 10168832.671875, 10170074.21875, 10177254.0, 10177868.0, 10178582.7421875, 10184624.0, 10191683.2890625, 10200006.515625, 10205835.484375, 10226073.5234375, 10240764.6640625, 10244356.0625, 10247202.53125, 10250497.0, 10273221.03125, 10282874.0, 10290135.0703125, 10293741.9453125, 10300218.0, 10300717.0, 10317941.0, 10318793.6953125, 10319214.0, 10319994.0078125, 10334732.328125, 10339934.0, 10343385.484375, 10344027.390625, 10345783.0, 10363572.3359375, 10369140.890625, 10372405.9765625, 10423940.4375, 10424765.15625, 10438642.0, 10450827.359375, 10451454.78125, 10454661.109375, 10463433.0, 10481495.0, 10494797.5, 10496776.0, 10511964.0, 10518745.75, 10532231.546875, 10532810.0, 10534647.7265625, 10543888.0, 10557809.0, 10591592.421875, 10594750.671875, 10596076.0, 10605649.9296875, 10610392.5625, 10612666.0, 10626586.0078125, 10669400.671875, 10680251.703125, 10685026.3359375, 10701173.0, 10718743.109375, 10727380.40625, 10731332.15625, 10749440.0, 10752113.34375, 10755696.25, 10755916.0, 10757906.0, 10769551.3359375, 10775163.28125, 10776314.40625, 10790348.9375, 10797242.34375, 10797841.0, 10810551.5859375, 10812552.6640625, 10826292.0, 10840432.125, 10849273.8984375, 10850456.0, 10862117.4921875, 10875261.3515625, 10876249.0, 10888631.9453125, 10890110.3203125, 10903690.0, 10903817.0, 10908434.0, 10929525.0, 10968752.34375, 10974739.0, 10980038.0, 10985736.3359375, 10987340.6328125, 11004388.0, 11008088.0, 11021485.3046875, 11027947.5546875, 11045908.1875, 11061552.3984375, 11070966.0, 11075093.0, 11082838.0, 11091107.796875, 11099313.140625, 11112273.3984375, 11120800.3046875, 11131451.0, 11135477.765625, 11150553.9375, 11159722.21875, 11165881.0, 11170740.0, 11179929.03125, 11180123.0, 11185887.5390625, 11200939.2421875, 11218362.390625, 11223760.8515625, 11230314.5, 11254354.0, 11288474.0859375, 11304720.7890625, 11319446.3125, 11321846.0, 11322641.09375, 11332998.0390625, 11347326.1796875, 11347483.0, 11350937.0, 11361122.359375, 11393602.9296875, 11394214.578125, 11413534.0, 11425824.671875, 11426544.6015625, 11429889.0, 11435710.53125, 11457717.0, 11491860.71875, 11506114.0, 11519454.46875, 11551534.953125, 11575167.109375, 11577653.5, 11578264.6640625, 11579371.875, 11581495.0, 11591687.4140625, 11606376.0, 11609739.0546875, 11621987.421875, 11648182.1015625, 11667646.5703125, 11689881.0, 11706527.0, 11720565.0234375, 11724179.6640625, 11724901.0, 11744791.0234375, 11749482.671875, 11753382.6796875, 11768661.1171875, 11776857.65625, 11809093.0, 11820163.375, 11830884.28125, 11832811.0, 11842523.5546875, 11849919.9921875, 11885195.25, 11894926.234375, 11919490.6640625, 11932433.0, 11948054.0, 11950881.0, 11959767.0, 11963578.1328125, 11964208.3125, 12012210.484375, 12051499.0, 12086205.5, 12092574.2421875, 12099318.234375, 12116904.75, 12156488.0, 12159893.6953125, 12200257.0, 12219870.8046875, 12245642.21875, 12272100.0, 12295397.2578125, 12302286.0, 12306159.0, 12308810.0, 12321705.0, 12323512.0859375, 12340909.0, 12361021.921875, 12376007.0, 12418447.34375, 12448384.578125, 12455640.5, 12458372.21875, 12493257.8515625, 12502413.0, 12505999.0, 12558428.0, 12584798.0, 12624361.0, 12629988.0859375, 12644591.0, 12656166.921875, 12656620.0, 12672596.0, 12673828.390625, 12681011.0625, 12688448.0, 12692718.53125, 12699808.0, 12712851.0, 12713433.2578125, 12720742.0, 12749284.5, 12763058.84375, 12795616.0, 12808849.96875, 12818369.71875, 12838906.828125, 12856801.0, 12938296.734375, 12979995.0, 12980557.0, 12999897.0234375, 13020593.2734375, 13047244.609375, 13073158.0, 13128754.703125, 13136625.9375, 13136987.171875, 13180873.25, 13218227.0, 13218376.875, 13238701.0, 13252359.0, 13278238.0, 13314820.78125, 13342498.0, 13379052.7578125, 13385401.5, 13387342.0, 13391611.6484375, 13396989.0, 13399841.0, 13408337.796875, 13446444.09375, 13596956.5703125, 13652262.828125, 13666187.96875, 13668083.0, 13702282.0, 13740352.984375, 13743795.203125, 13769227.7109375, 13786304.46875, 13847448.0, 13888467.0, 13905238.09375, 13937755.3203125, 14014620.828125, 14015724.0, 14023249.0, 14050130.015625, 14055280.6328125, 14075726.125, 14135513.484375, 14163370.28125, 14202526.1953125, 14218085.0, 14228622.0, 14234941.0625, 14246517.0, 14257387.0, 14275564.7734375, 14285698.0, 14340655.0, 14353140.0, 14355340.40625, 14413613.875, 14423385.0, 14424674.890625, 14445930.4375, 14449063.0, 14477446.0, 14497506.328125, 14508978.546875, 14518241.515625, 14521548.390625, 14557909.0, 14568386.0, 14624485.0, 14659616.703125, 14662685.0, 14715558.0, 14733957.0, 14765992.0, 14868479.3125, 14897333.0, 14921996.078125, 14922179.90625, 14922208.5390625, 14930181.6484375, 14940095.0, 14987201.0, 15006784.0, 15007616.0, 15026568.1796875, 15057084.546875, 15063264.0, 15078757.640625, 15086822.0, 15119527.4140625, 15139445.9140625, 15170519.3671875, 15206918.109375, 15221361.7265625, 15233680.0, 15258794.0, 15283220.1328125, 15288086.0, 15325815.0, 15391616.0, 15395185.0, 15421257.0, 15429515.0, 15430325.3359375, 15449269.6640625, 15516006.9375, 15545018.8125, 15550625.546875, 15574139.640625, 15650860.0, 15666201.3203125, 15675881.0, 15681597.0, 15683368.953125, 15691347.75, 15702950.0, 15703106.265625, 15713464.796875, 15727857.125, 15731943.0, 15746897.640625, 15810182.0, 15887201.484375, 15893628.015625, 15938928.1875, 15947759.15625, 16010048.7109375, 16042420.21875, 16135441.8671875, 16143885.8984375, 16301451.5625, 16315856.796875, 16344246.0, 16437051.0, 16490768.0, 16548415.3359375, 16562378.7265625, 16652385.5546875, 16698718.0, 16710284.0, 16714062.0, 16801618.0, 16803981.0, 16816819.0859375, 16883611.4765625, 16890084.15625, 16929672.3359375, 16946030.0, 16984052.25, 17002478.609375, 17017885.0, 17109593.9296875, 17193775.796875, 17275135.265625, 17314681.953125, 17371234.6015625, 17377272.0, 17473155.0, 17515168.0, 17529549.0, 17531310.0, 17551880.4140625, 17567664.0, 17573922.0, 17592080.0, 17606899.0, 17693735.953125, 17716247.5703125, 17842728.0, 17847174.296875, 17874795.75, 18005516.0, 18011002.75, 18030707.0, 18068802.6328125, 18074795.6171875, 18076864.0703125, 18201800.453125, 18225785.0, 18281603.4609375, 18329364.8671875, 18357452.03125, 18505790.0, 18628664.71875, 18708741.015625, 18962207.9296875, 19139743.9609375, 19175896.546875, 19185577.0, 19241093.0, 19404874.0, 19587581.96875, 19644048.0, 19683126.84375, 19737898.78125, 19755839.765625, 19973556.796875, 20309895.0, 20312723.625, 20318582.0, 20319699.4375, 20468117.203125, 20486325.2890625, 20692330.6171875, 20747134.859375, 20767947.0, 21067842.8984375, 21119772.0, 21174974.078125, 21437119.171875, 21729731.84375, 21804564.859375, 21905462.0, 22159584.6015625, 22169465.953125, 22227585.7421875, 22277082.0, 22417349.9609375, 22533882.0, 22631486.828125, 22800141.875, 22933515.203125, 22951283.734375, 22966270.703125, 23357625.0, 23761524.421875, 23799460.0, 23815229.0, 24334913.46875, 25104585.6015625, 27553329.0, 28356139.3828125, 28879468.765625, 29178067.0, 29287537.140625, 29798614.3359375, 31006316.0, 34962037.0, 41326516.0, 47491231.4453125, 47592652.859375, 53956675.0, 66761218.2265625, 67150801.0703125, 73657903.0, 78789050.1640625, 230238736.1796875]\n",
      "ranges\n",
      "[6804462.0, 7940788.0, 8924464.109375, 9442391.0, 9965030.5625, 10205835.484375, 10423940.4375, 10669400.671875, 10862117.4921875, 11099313.140625, 11347483.0, 11648182.1015625, 11959767.0, 12418447.34375, 12763058.84375, 13379052.7578125, 14050130.015625, 14518241.515625, 15086822.0, 15681597.0, 16562378.7265625, 17531310.0, 18708741.015625, 21174974.078125, 230238736.1796875]\n",
      "AxesSubplot(0.547727,0.11;0.352273x0.77)\n"
     ]
    },
    {
     "data": {
      "image/png": "[encoded data removed]",
      "text/plain": [
       "<Figure size 640x480 with 2 Axes>"
      ]
     },
     "metadata": {},
     "output_type": "display_data"
    }
   ],
   "source": [
    "fig, axs = plt.subplots(1, 2)\n",
    "plot_histogram_and_pdf(fig, axs, analyzer.usage_calculator.upstream_histogram, 'upstream_probabilities')"
   ]
  },
  {
   "cell_type": "code",
   "execution_count": 12,
   "metadata": {
    "ExecuteTime": {
     "end_time": "2017-12-08T21:54:33.503972Z",
     "start_time": "2017-12-08T21:54:33.500199Z"
    }
   },
   "outputs": [
    {
     "data": {
      "text/plain": [
       "{'upstream mode': 10289120.484375, 'upstream threshold': 13971813.984375}"
      ]
     },
     "execution_count": 12,
     "metadata": {},
     "output_type": "execute_result"
    }
   ],
   "source": [
    "{'upstream mode': analyzer.usage_calculator.upstream_histogram.mode,\n",
    " 'upstream threshold': analyzer.usage_calculator.upstream_histogram.threshold}"
   ]
  },
  {
   "cell_type": "markdown",
   "metadata": {},
   "source": [
    "#### Dowstream"
   ]
  },
  {
   "cell_type": "code",
   "execution_count": 13,
   "metadata": {
    "ExecuteTime": {
     "end_time": "2017-12-08T21:54:33.988250Z",
     "start_time": "2017-12-08T21:54:33.510577Z"
    }
   },
   "outputs": [
    {
     "name": "stdout",
     "output_type": "stream",
     "text": [
      "FIXED\n",
      "<processor.analysis.histogram.FixedSizeBinHistogram object at 0x7fd4ec3a6fd0>\n",
      "bins_prob\n",
      "    downstream_probabilities     mid_value\n",
      "0               2.765347e+11  7.036456e+06\n",
      "1               1.359916e+12  7.400655e+06\n",
      "2               2.135426e+12  7.505252e+06\n",
      "3               2.142229e+12  7.586430e+06\n",
      "4               2.137890e+12  7.664567e+06\n",
      "5               3.765028e+12  7.729412e+06\n",
      "6               2.743941e+12  7.781976e+06\n",
      "7               2.949501e+12  7.843763e+06\n",
      "8               4.011545e+12  7.895031e+06\n",
      "9               2.237940e+12  7.956897e+06\n",
      "10              2.477298e+12  8.028332e+06\n",
      "11              1.998817e+12  8.105766e+06\n",
      "12              1.934340e+12  8.190513e+06\n",
      "13              1.425613e+12  8.293437e+06\n",
      "14              1.055373e+12  8.434551e+06\n",
      "15              1.180574e+12  8.594063e+06\n",
      "16              8.591615e+11  8.763012e+06\n",
      "17              8.047223e+11  8.967083e+06\n",
      "18              6.217785e+11  9.204896e+06\n",
      "19              4.792620e+11  9.518887e+06\n",
      "20              3.605924e+11  9.926011e+06\n",
      "21              2.882950e+11  1.045570e+07\n",
      "22              3.298123e+11  1.103030e+07\n",
      "23              1.626395e+09  4.264498e+07\n",
      "bins_df\n",
      "       min_value     mid_value     max_value         width  data_points_qty\n",
      "0   6.737133e+06  7.036456e+06  7.335780e+06  5.986471e+05               24\n",
      "1   7.339789e+06  7.400655e+06  7.461522e+06  1.217330e+05               24\n",
      "2   7.466491e+06  7.505252e+06  7.544015e+06  7.752395e+04               24\n",
      "3   7.547792e+06  7.586430e+06  7.625070e+06  7.727777e+04               24\n",
      "4   7.625850e+06  7.664567e+06  7.703285e+06  7.743459e+04               24\n",
      "5   7.707428e+06  7.729412e+06  7.751397e+06  4.396957e+04               24\n",
      "6   7.751811e+06  7.781976e+06  7.812142e+06  6.033171e+04               24\n",
      "7   7.815700e+06  7.843763e+06  7.871827e+06  5.612700e+04               24\n",
      "8   7.874398e+06  7.895031e+06  7.915666e+06  4.126755e+04               24\n",
      "9   7.919911e+06  7.956897e+06  7.993883e+06  7.397280e+04               24\n",
      "10  7.994920e+06  8.028332e+06  8.061745e+06  6.682550e+04               24\n",
      "11  8.064354e+06  8.105766e+06  8.147177e+06  8.282232e+04               24\n",
      "12  8.147722e+06  8.190513e+06  8.233305e+06  8.558301e+04               24\n",
      "13  8.235376e+06  8.293437e+06  8.351499e+06  1.161231e+05               24\n",
      "14  8.356121e+06  8.434551e+06  8.512982e+06  1.568609e+05               24\n",
      "15  8.523951e+06  8.594063e+06  8.664177e+06  1.402256e+05               24\n",
      "16  8.666670e+06  8.763012e+06  8.859354e+06  1.926840e+05               24\n",
      "17  8.864224e+06  8.967083e+06  9.069943e+06  2.057190e+05               24\n",
      "18  9.071773e+06  9.204896e+06  9.338020e+06  2.662470e+05               24\n",
      "19  9.346177e+06  9.518887e+06  9.691597e+06  3.454200e+05               24\n",
      "20  9.696463e+06  9.926011e+06  1.015556e+07  4.590964e+05               24\n",
      "21  1.016858e+07  1.045570e+07  1.074281e+07  5.742266e+05               24\n",
      "22  1.077933e+07  1.103030e+07  1.128127e+07  5.019421e+05               24\n",
      "23  1.132576e+07  4.264498e+07  7.396421e+07  6.263844e+07               39\n",
      "DATAA\n",
      "[6737132.84375, 6789752.046875, 6870242.0, 6949116.28125, 6981185.046875, 7031471.4375, 7033654.1171875, 7067498.65625, 7084275.0, 7106042.6640625, 7117506.0, 7126682.2890625, 7191492.3359375, 7233660.0625, 7245696.78125, 7254710.6015625, 7274987.0, 7276856.890625, 7300184.5, 7300237.6640625, 7303413.5, 7315000.3515625, 7325138.3359375, 7335779.9375, 7339788.8671875, 7344382.0, 7349741.6640625, 7373744.8125, 7375267.796875, 7378589.0, 7387177.84375, 7387384.5, 7388173.7109375, 7392119.359375, 7395758.203125, 7401140.6640625, 7407299.0, 7407586.0, 7414812.0, 7416305.0, 7421496.15625, 7422807.28125, 7437812.25, 7444804.0, 7452589.515625, 7455074.96875, 7458556.0, 7461521.890625, 7466491.046875, 7466757.5, 7467663.8203125, 7468413.9296875, 7470090.46875, 7473942.0, 7482961.0, 7483121.2421875, 7484601.8984375, 7496025.328125, 7498974.0, 7501250.5, 7502933.5, 7506018.6640625, 7508574.0, 7515740.25, 7516466.1953125, 7520966.1328125, 7522684.6328125, 7522837.3984375, 7533545.0, 7536372.6875, 7542500.0, 7544015.0, 7547792.3671875, 7554933.3515625, 7560346.53125, 7565828.0, 7566820.0, 7569026.0, 7573650.203125, 7576850.0, 7577083.828125, 7578120.5, 7579981.390625, 7587611.5078125, 7589336.5859375, 7591423.75, 7593339.078125, 7598265.53125, 7602176.25, 7609500.3359375, 7612553.3359375, 7613970.4609375, 7614949.0, 7622008.8125, 7622591.0, 7625070.1328125, 7625850.0, 7626578.0, 7631893.0, 7634897.5859375, 7636816.4296875, 7638418.0, 7640130.0, 7650301.171875, 7656511.0, 7656838.0390625, 7663621.5, 7665954.4453125, 7670295.0, 7672224.5, 7677737.65625, 7684775.484375, 7684940.0, 7685748.1015625, 7688798.0, 7691051.0, 7693428.5, 7699874.8125, 7700259.984375, 7703284.59375, 7707427.828125, 7707579.890625, 7708938.734375, 7711236.0, 7711439.5, 7719436.0, 7719666.0, 7720252.2734375, 7721224.53125, 7722935.0625, 7727510.296875, 7734108.0, 7734982.1015625, 7735893.0, 7736445.0, 7737022.3671875, 7737399.2578125, 7740288.8203125, 7743205.0, 7745898.15625, 7748200.0, 7750846.0, 7751073.2734375, 7751397.3984375, 7751810.7265625, 7753880.046875, 7754720.0, 7765726.484375, 7769075.078125, 7769257.0, 7769336.0, 7770715.0, 7773347.0, 7773780.5, 7774419.6796875, 7777201.5, 7777928.875, 7779226.0, 7781450.0, 7783979.0, 7786881.28125, 7793868.65625, 7793994.0, 7794507.0234375, 7794813.7109375, 7801593.0, 7809715.0, 7812142.4375, 7815700.0, 7818480.2578125, 7819778.640625, 7821067.296875, 7824926.890625, 7827135.0, 7828644.140625, 7829185.140625, 7832276.0, 7840364.5859375, 7845331.4296875, 7845911.6015625, 7850063.78125, 7851392.578125, 7851396.234375, 7856631.0, 7865425.71875, 7866267.6796875, 7866484.0, 7866485.15625, 7868388.3046875, 7868693.3359375, 7871756.6796875, 7871827.0, 7874398.4453125, 7874700.6953125, 7876605.8046875, 7877706.9453125, 7877918.0, 7878384.9296875, 7880770.125, 7885570.765625, 7888445.359375, 7889654.21875, 7889781.765625, 7897896.3359375, 7898305.0, 7898740.0, 7899341.9375, 7902215.8828125, 7902402.296875, 7902558.6015625, 7902721.0, 7907632.0, 7910703.3984375, 7910955.0, 7914995.0703125, 7915666.0, 7919910.625, 7923658.21875, 7926312.0, 7928245.6171875, 7929520.703125, 7932070.2734375, 7933256.84375, 7935642.3828125, 7935835.0, 7939605.546875, 7940788.0, 7944520.4296875, 7948358.0, 7949878.578125, 7961898.0, 7965876.0, 7973771.359375, 7979214.0, 7983024.9140625, 7986109.84375, 7987061.34375, 7987569.90625, 7990394.9921875, 7993883.421875, 7994919.5, 7995209.0078125, 7995565.4453125, 7997005.0, 7997331.046875, 8000565.5, 8000656.234375, 8004126.0, 8005564.1484375, 8007323.640625, 8010063.203125, 8020803.5, 8021627.5, 8029119.0, 8031239.0, 8034433.328125, 8034828.5859375, 8043774.203125, 8050476.734375, 8053270.9765625, 8059650.5234375, 8059677.0, 8060910.9140625, 8061745.0, 8064354.5, 8068032.5, 8068608.7578125, 8076207.390625, 8077698.6640625, 8079091.796875, 8079615.5, 8080795.9140625, 8094320.609375, 8106399.0, 8106847.1875, 8116046.296875, 8116429.9765625, 8123696.0, 8125072.328125, 8128948.796875, 8129137.7421875, 8129807.15625, 8131019.171875, 8131456.09375, 8134366.4609375, 8136544.921875, 8139323.0703125, 8147176.8203125, 8147721.90625, 8152258.0, 8157426.1015625, 8159582.71875, 8161467.0, 8174038.6875, 8183864.0, 8183885.421875, 8186726.0, 8190149.875, 8190989.59375, 8193161.109375, 8194187.0, 8197626.0, 8198644.671875, 8205127.0, 8206717.453125, 8209552.109375, 8210719.3046875, 8214086.0, 8214418.1953125, 8221894.7578125, 8222588.90625, 8233304.9140625, 8235375.984375, 8237866.0, 8239624.9765625, 8241959.8359375, 8253368.96875, 8259510.3359375, 8264592.0, 8272438.71875, 8284121.171875, 8286202.3984375, 8287196.375, 8289115.2890625, 8290347.0, 8292233.0, 8292455.0, 8294311.0, 8310251.03125, 8313374.0, 8316969.65625, 8326040.9375, 8337892.84375, 8349156.0, 8350213.0, 8351499.125, 8356121.0, 8367602.5625, 8371390.0546875, 8372627.859375, 8372665.828125, 8373265.0, 8377312.265625, 8378568.0, 8386860.0, 8401515.0, 8409305.0, 8416260.171875, 8444484.0, 8445253.0, 8447017.875, 8450999.0, 8467780.0, 8468683.78125, 8470086.5625, 8477151.0, 8488647.328125, 8491900.453125, 8500949.5, 8512981.8671875, 8523951.0, 8524991.375, 8530136.5625, 8533500.203125, 8540772.0, 8547739.0, 8556166.515625, 8560871.609375, 8565425.1875, 8568380.0, 8572638.3828125, 8576694.0, 8581810.0, 8594713.828125, 8607811.453125, 8612039.0, 8616112.0, 8616583.0, 8621308.0, 8645777.90625, 8651220.203125, 8651752.0, 8654202.0, 8664176.609375, 8666670.0, 8677733.0, 8683809.0, 8688175.921875, 8688332.40625, 8720998.0, 8727450.0, 8745518.0, 8746519.0, 8773542.3203125, 8780717.0, 8786367.84375, 8788843.0, 8795313.0, 8800259.0, 8802258.0, 8817721.0, 8820300.0, 8831726.0, 8847872.0, 8848683.0, 8853392.0, 8857715.0, 8859354.0, 8864224.0, 8866727.3046875, 8878264.34375, 8883219.265625, 8884115.03125, 8891164.0, 8892621.0, 8892810.75, 8909762.234375, 8913816.0, 8914301.0, 8914441.0859375, 8927108.0, 8946527.0546875, 8950645.0, 8950972.0, 8956060.0, 9021730.0, 9031417.0, 9031729.0, 9048026.0, 9055440.0, 9058523.0, 9069943.0, 9071773.0, 9073814.0, 9089738.0, 9092040.03125, 9097007.0, 9102123.125, 9109403.0, 9113147.8515625, 9137140.0, 9137502.765625, 9173380.0, 9180481.0, 9180855.0, 9181689.0, 9195377.0, 9211732.0, 9226185.0, 9231925.0, 9234003.0, 9250987.2265625, 9261499.0, 9305370.9609375, 9316296.0, 9338020.0, 9346177.0, 9351773.0, 9357241.0, 9363453.0, 9364801.6875, 9367254.0, 9384333.0, 9405873.9921875, 9425711.0, 9437034.0, 9449830.0, 9457153.0, 9501100.0, 9510002.515625, 9535621.0, 9541767.0, 9543036.0, 9550653.0, 9572653.0, 9587863.0, 9604894.0, 9614101.4765625, 9669041.0, 9691597.0, 9696462.6484375, 9718896.0, 9724253.453125, 9725359.0, 9756955.0, 9766891.0, 9818241.890625, 9829877.0, 9839677.0, 9853048.25, 9853856.0, 9855967.5, 9901144.75, 9906294.0, 9909217.0, 9910275.515625, 9972706.0390625, 9998067.4375, 10022261.0, 10082358.0, 10089923.0, 10092738.59375, 10095809.0, 10155559.0703125, 10168584.0, 10182873.0, 10215137.2109375, 10265518.0, 10288339.0, 10299510.0625, 10308507.0, 10318590.0, 10325350.171875, 10372749.0, 10373536.0, 10405586.859375, 10409640.984375, 10410452.5390625, 10436473.0, 10470635.0, 10482941.0, 10489784.6640625, 10503346.0, 10634006.5546875, 10635829.0, 10658978.0, 10672964.0, 10742810.578125, 10779330.0, 10817393.640625, 10819435.0, 10830595.0, 10860046.96875, 10887415.0625, 10900402.25, 10900830.75, 10927401.453125, 10944114.65625, 10946748.0, 10979853.0, 10980758.21875, 10989733.0, 11028345.515625, 11029969.0, 11076026.0, 11139714.6953125, 11155516.0, 11181937.9296875, 11232071.0, 11246003.140625, 11261829.0, 11281272.125, 11325761.0, 11384059.0, 11520059.0, 11666892.7421875, 11833776.1484375, 11848934.0, 11934336.46875, 12017383.0, 12183403.671875, 12309495.0, 12359507.21875, 12417765.25, 12450622.0, 12702958.0, 12743616.0625, 12897192.59375, 12953020.0, 13030431.0703125, 13263075.0, 13379548.78125, 13400206.609375, 13706236.78125, 14250876.0, 14485542.0, 14783812.0, 14793584.015625, 15337651.0, 16041746.3671875, 16827157.328125, 17034336.0, 17164228.625, 17364063.46875, 17371553.0, 19901954.0, 20835942.0, 23844471.7734375, 23969966.0, 48642431.4140625, 73964205.6640625]\n",
      "ranges\n",
      "[6737132.84375, 7339788.8671875, 7466491.046875, 7547792.3671875, 7625850.0, 7707427.828125, 7751810.7265625, 7815700.0, 7874398.4453125, 7919910.625, 7994919.5, 8064354.5, 8147721.90625, 8235375.984375, 8356121.0, 8523951.0, 8666670.0, 8864224.0, 9071773.0, 9346177.0, 9696462.6484375, 10168584.0, 10779330.0, 11325761.0, 73964205.6640625]\n",
      "AxesSubplot(0.547727,0.11;0.352273x0.77)\n"
     ]
    },
    {
     "data": {
      "image/png": "[encoded data removed]",
      "text/plain": [
       "<Figure size 640x480 with 2 Axes>"
      ]
     },
     "metadata": {},
     "output_type": "display_data"
    }
   ],
   "source": [
    "fig, axs = plt.subplots(1, 2)\n",
    "plot_histogram_and_pdf(fig, axs, analyzer.usage_calculator.downstream_histogram, 'downstream_probabilities')"
   ]
  },
  {
   "cell_type": "code",
   "execution_count": 14,
   "metadata": {
    "ExecuteTime": {
     "end_time": "2017-12-08T21:54:33.998634Z",
     "start_time": "2017-12-08T21:54:33.990443Z"
    }
   },
   "outputs": [
    {
     "data": {
      "text/plain": [
       "{'downstream mode': 7729411.828125, 'downstream threshold': 11247639.75}"
      ]
     },
     "execution_count": 14,
     "metadata": {},
     "output_type": "execute_result"
    }
   ],
   "source": [
    "{'downstream mode': analyzer.usage_calculator.downstream_histogram.mode,\n",
    " 'downstream threshold': analyzer.usage_calculator.downstream_histogram.threshold}"
   ]
  },
  {
   "cell_type": "markdown",
   "metadata": {},
   "source": [
    "### Quality and Hurst values\n",
    "#### Quality"
   ]
  },
  {
   "cell_type": "code",
   "execution_count": null,
   "metadata": {},
   "outputs": [],
   "source": []
  },
  {
   "cell_type": "code",
   "execution_count": null,
   "metadata": {},
   "outputs": [],
   "source": []
  }
 ],
 "metadata": {
  "kernelspec": {
   "display_name": "Python 3 (ipykernel)",
   "language": "python",
   "name": "python3"
  },
  "language_info": {
   "codemirror_mode": {
    "name": "ipython",
    "version": 3
   },
   "file_extension": ".py",
   "mimetype": "text/x-python",
   "name": "python",
   "nbconvert_exporter": "python",
   "pygments_lexer": "ipython3",
   "version": "3.8.10"
  },
  "varInspector": {
   "cols": {
    "lenName": 16,
    "lenType": 16,
    "lenVar": 40
   },
   "kernels_config": {
    "python": {
     "delete_cmd_postfix": "",
     "delete_cmd_prefix": "del ",
     "library": "var_list.py",
     "varRefreshCmd": "print(var_dic_list())"
    },
    "r": {
     "delete_cmd_postfix": ") ",
     "delete_cmd_prefix": "rm(",
     "library": "var_list.r",
     "varRefreshCmd": "cat(var_dic_list()) "
    }
   },
   "types_to_exclude": [
    "module",
    "function",
    "builtin_function_or_method",
    "instance",
    "_Feature"
   ],
   "window_display": false
  }
 },
 "nbformat": 4,
 "nbformat_minor": 4
}
